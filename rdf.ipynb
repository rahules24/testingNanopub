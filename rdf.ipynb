{
 "cells": [
  {
   "cell_type": "code",
   "execution_count": 1,
   "metadata": {},
   "outputs": [],
   "source": [
    "import rdflib\n",
    "from rdflib import Graph\n",
    "\n",
    "assertion = Graph()\n",
    "assertion.parse('https://example.org/assertion.nq', format='nquads')\n",
    "\n",
    "provenance = Graph()\n",
    "provenance.parse('https://example.org/provenance.nq', format='nquads')\n",
    "\n",
    "pubinfo = Graph()\n",
    "pubinfo.parse('https://example.org/pubinfo.nq', format='nquads')"
   ]
  }
 ],
 "metadata": {
  "kernelspec": {
   "display_name": "nanodash",
   "language": "python",
   "name": "python3"
  },
  "language_info": {
   "codemirror_mode": {
    "name": "ipython",
    "version": 3
   },
   "file_extension": ".py",
   "mimetype": "text/x-python",
   "name": "python",
   "nbconvert_exporter": "python",
   "pygments_lexer": "ipython3",
   "version": "3.9.19"
  }
 },
 "nbformat": 4,
 "nbformat_minor": 2
}
