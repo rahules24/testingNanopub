{
 "cells": [
  {
   "cell_type": "code",
   "execution_count": 10,
   "metadata": {},
   "outputs": [],
   "source": [
    "import json\n",
    "from rdflib import Graph\n",
    "from nanopub import Nanopub, NanopubConf, load_profile\n",
    "from nanopub.utils import  NanopubMetadata\n"
   ]
  },
  {
   "cell_type": "code",
   "execution_count": 16,
   "metadata": {},
   "outputs": [],
   "source": [
    "with open('newpub.json', 'r') as file:\n",
    "    pubinfo = json.load(file)"
   ]
  },
  {
   "cell_type": "code",
   "execution_count": 19,
   "metadata": {},
   "outputs": [],
   "source": [
    "my_pubinfo = Graph()"
   ]
  },
  {
   "cell_type": "code",
   "execution_count": 18,
   "metadata": {},
   "outputs": [
    {
     "name": "stdout",
     "output_type": "stream",
     "text": [
      "https://w3id.org/np/RAp_-kdLEx25ZkR8QSG2MZpV5ajv8W2xM0TLoD7Wc76gg#assertion\n",
      "https://w3id.org/np/RAp_-kdLEx25ZkR8QSG2MZpV5ajv8W2xM0TLoD7Wc76gg#assertion\n",
      "https://w3id.org/np/RAp_-kdLEx25ZkR8QSG2MZpV5ajv8W2xM0TLoD7Wc76gg#st2\n",
      "https://w3id.org/np/RAp_-kdLEx25ZkR8QSG2MZpV5ajv8W2xM0TLoD7Wc76gg#st2\n",
      "https://w3id.org/np/RAp_-kdLEx25ZkR8QSG2MZpV5ajv8W2xM0TLoD7Wc76gg#st5\n",
      "https://w3id.org/np/RAp_-kdLEx25ZkR8QSG2MZpV5ajv8W2xM0TLoD7Wc76gg#st5\n",
      "https://w3id.org/np/RAp_-kdLEx25ZkR8QSG2MZpV5ajv8W2xM0TLoD7Wc76gg#st4\n",
      "https://w3id.org/np/RAp_-kdLEx25ZkR8QSG2MZpV5ajv8W2xM0TLoD7Wc76gg#st0\n",
      "https://w3id.org/np/RAp_-kdLEx25ZkR8QSG2MZpV5ajv8W2xM0TLoD7Wc76gg#Creator\n",
      "https://w3id.org/np/RAp_-kdLEx25ZkR8QSG2MZpV5ajv8W2xM0TLoD7Wc76gg#st5\n",
      "https://w3id.org/np/RAp_-kdLEx25ZkR8QSG2MZpV5ajv8W2xM0TLoD7Wc76gg#assertion\n",
      "https://w3id.org/np/RAp_-kdLEx25ZkR8QSG2MZpV5ajv8W2xM0TLoD7Wc76gg#ProvenanceTemplate\n",
      "https://w3id.org/np/RAp_-kdLEx25ZkR8QSG2MZpV5ajv8W2xM0TLoD7Wc76gg#st1\n",
      "https://w3id.org/np/RAp_-kdLEx25ZkR8QSG2MZpV5ajv8W2xM0TLoD7Wc76gg#st1\n",
      "https://w3id.org/np/RAp_-kdLEx25ZkR8QSG2MZpV5ajv8W2xM0TLoD7Wc76gg#AssertionTemplate\n",
      "https://w3id.org/np/RAp_-kdLEx25ZkR8QSG2MZpV5ajv8W2xM0TLoD7Wc76gg#st5\n",
      "https://w3id.org/np/RAp_-kdLEx25ZkR8QSG2MZpV5ajv8W2xM0TLoD7Wc76gg#st4\n",
      "https://w3id.org/np/RAp_-kdLEx25ZkR8QSG2MZpV5ajv8W2xM0TLoD7Wc76gg#st0\n",
      "https://w3id.org/np/RAp_-kdLEx25ZkR8QSG2MZpV5ajv8W2xM0TLoD7Wc76gg#st4\n",
      "https://w3id.org/np/o/ntemplate/wasCreatedFromPubinfoTemplate\n",
      "https://w3id.org/np/RAp_-kdLEx25ZkR8QSG2MZpV5ajv8W2xM0TLoD7Wc76gg#assertion\n",
      "https://w3id.org/np/RAp_-kdLEx25ZkR8QSG2MZpV5ajv8W2xM0TLoD7Wc76gg#st2\n",
      "https://w3id.org/np/RAp_-kdLEx25ZkR8QSG2MZpV5ajv8W2xM0TLoD7Wc76gg#License\n",
      "https://w3id.org/np/RAp_-kdLEx25ZkR8QSG2MZpV5ajv8W2xM0TLoD7Wc76gg#st1\n",
      "http://purl.org/dc/terms/dateSubmitted\n",
      "https://w3id.org/np/o/ntemplate/wasCreatedFromTemplate\n",
      "https://w3id.org/np/RAp_-kdLEx25ZkR8QSG2MZpV5ajv8W2xM0TLoD7Wc76gg#st3\n",
      "https://w3id.org/np/o/ntemplate/wasCreatedFromProvenanceTemplate\n",
      "https://w3id.org/np/RAp_-kdLEx25ZkR8QSG2MZpV5ajv8W2xM0TLoD7Wc76gg#CreationDate\n",
      "https://w3id.org/np/RAp_-kdLEx25ZkR8QSG2MZpV5ajv8W2xM0TLoD7Wc76gg#st2\n",
      "https://w3id.org/np/RAp_-kdLEx25ZkR8QSG2MZpV5ajv8W2xM0TLoD7Wc76gg#st0\n",
      "https://w3id.org/np/RAp_-kdLEx25ZkR8QSG2MZpV5ajv8W2xM0TLoD7Wc76gg#st0\n",
      "https://w3id.org/np/RAp_-kdLEx25ZkR8QSG2MZpV5ajv8W2xM0TLoD7Wc76gg#st3\n",
      "https://w3id.org/np/RAp_-kdLEx25ZkR8QSG2MZpV5ajv8W2xM0TLoD7Wc76gg#PublicationInfoTemplate\n",
      "https://w3id.org/np/RAp_-kdLEx25ZkR8QSG2MZpV5ajv8W2xM0TLoD7Wc76gg#st4\n",
      "https://w3id.org/np/RAp_-kdLEx25ZkR8QSG2MZpV5ajv8W2xM0TLoD7Wc76gg#assertion\n",
      "http://purl.org/dc/elements/1.1/creator\n",
      "https://w3id.org/np/RAp_-kdLEx25ZkR8QSG2MZpV5ajv8W2xM0TLoD7Wc76gg#st3\n",
      "https://w3id.org/np/RAp_-kdLEx25ZkR8QSG2MZpV5ajv8W2xM0TLoD7Wc76gg#assertion\n",
      "https://w3id.org/np/RAp_-kdLEx25ZkR8QSG2MZpV5ajv8W2xM0TLoD7Wc76gg#st1\n",
      "https://w3id.org/np/RAp_-kdLEx25ZkR8QSG2MZpV5ajv8W2xM0TLoD7Wc76gg#assertion\n",
      "https://w3id.org/np/RAp_-kdLEx25ZkR8QSG2MZpV5ajv8W2xM0TLoD7Wc76gg#st3\n",
      "https://w3id.org/np/RAp_-kdLEx25ZkR8QSG2MZpV5ajv8W2xM0TLoD7Wc76gg#assertion\n"
     ]
    }
   ],
   "source": [
    "for subject in my_pubinfo.subjects():\n",
    "    print(subject)\n"
   ]
  },
  {
   "cell_type": "code",
   "execution_count": 11,
   "metadata": {},
   "outputs": [],
   "source": [
    "mm = NanopubMetadata()"
   ]
  },
  {
   "cell_type": "code",
   "execution_count": 21,
   "metadata": {},
   "outputs": [
    {
     "name": "stdout",
     "output_type": "stream",
     "text": [
      "Subject: http://purl.org/nanopub/temp/np#, Predicate: http://purl.org/dc/terms/created, Object: 2024-10-10\n",
      "Subject: http://purl.org/nanopub/temp/np#, Predicate: http://purl.org/dc/terms/creator, Object: https://xyz.com\n"
     ]
    }
   ],
   "source": [
    "from rdflib import Namespace, URIRef, Literal\n",
    "from rdflib.namespace import DCTERMS, XSD\n",
    "\n",
    "# Create the graph\n",
    "my_pubinfo = Graph()\n",
    "\n",
    "# Define the subject URI\n",
    "subject = mm.namespace[\"\"]\n",
    "\n",
    "# Add the date and creation triple using dcterms\n",
    "my_pubinfo.add((subject, DCTERMS.created, Literal(\"2024-10-10\", datatype=XSD.date)))\n",
    "my_pubinfo.add((subject, DCTERMS.creator, URIRef(\"https://xyz.com\")))\n"
   ]
  },
  {
   "cell_type": "code",
   "execution_count": 13,
   "metadata": {},
   "outputs": [
    {
     "data": {
      "text/plain": [
       "rdflib.term.URIRef('http://purl.org/nanopub/temp/np#')"
      ]
     },
     "execution_count": 13,
     "metadata": {},
     "output_type": "execute_result"
    }
   ],
   "source": [
    "mm.namespace[\"\"]"
   ]
  },
  {
   "cell_type": "code",
   "execution_count": null,
   "metadata": {},
   "outputs": [],
   "source": []
  },
  {
   "cell_type": "code",
   "execution_count": null,
   "metadata": {},
   "outputs": [],
   "source": []
  },
  {
   "cell_type": "code",
   "execution_count": 8,
   "metadata": {},
   "outputs": [],
   "source": [
    "gg = Graph()"
   ]
  },
  {
   "cell_type": "code",
   "execution_count": null,
   "metadata": {},
   "outputs": [],
   "source": []
  },
  {
   "cell_type": "code",
   "execution_count": null,
   "metadata": {},
   "outputs": [],
   "source": [
    "self._pubinfo.add(\n",
    "                (self._metadata.namespace[\"\"], PROV.generatedAtTime, creationtime)\n",
    "            )"
   ]
  },
  {
   "cell_type": "code",
   "execution_count": 7,
   "metadata": {},
   "outputs": [
    {
     "data": {
      "text/plain": [
       "{'base': None,\n",
       " '_Graph__identifier': rdflib.term.BNode('N200bc4ab77b74646bfaf05aff2d6a670'),\n",
       " '_Graph__store': <rdflib.plugins.stores.memory.Memory at 0x192568ef790>,\n",
       " '_Graph__namespace_manager': <rdflib.namespace.NamespaceManager at 0x19255255490>,\n",
       " '_bind_namespaces': 'rdflib',\n",
       " 'context_aware': False,\n",
       " 'formula_aware': False,\n",
       " 'default_union': False}"
      ]
     },
     "execution_count": 7,
     "metadata": {},
     "output_type": "execute_result"
    }
   ],
   "source": [
    "my_pubinfo.__dict__"
   ]
  }
 ],
 "metadata": {
  "kernelspec": {
   "display_name": "nanodash",
   "language": "python",
   "name": "python3"
  },
  "language_info": {
   "codemirror_mode": {
    "name": "ipython",
    "version": 3
   },
   "file_extension": ".py",
   "mimetype": "text/x-python",
   "name": "python",
   "nbconvert_exporter": "python",
   "pygments_lexer": "ipython3",
   "version": "3.9.19"
  }
 },
 "nbformat": 4,
 "nbformat_minor": 2
}
